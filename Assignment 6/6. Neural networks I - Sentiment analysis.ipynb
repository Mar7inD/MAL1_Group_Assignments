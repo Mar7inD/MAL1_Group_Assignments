{
 "cells": [
  {
   "cell_type": "markdown",
   "id": "5bc9be56",
   "metadata": {},
   "source": [
    "## Sentiment Analysis"
   ]
  },
  {
   "cell_type": "markdown",
   "id": "818b3b52",
   "metadata": {},
   "source": [
    "In this exercise we use the IMDb-dataset, which we will use to perform a sentiment analysis. The code below assumes that the data is placed in the same folder as this notebook. We see that the reviews are loaded as a pandas dataframe, and print the beginning of the first few reviews."
   ]
  },
  {
   "cell_type": "code",
   "execution_count": 1,
   "id": "67da3bc0",
   "metadata": {},
   "outputs": [
    {
     "name": "stdout",
     "output_type": "stream",
     "text": [
      "<class 'pandas.core.frame.DataFrame'>\n",
      "                                                   0\n",
      "0  bromwell high is a cartoon comedy . it ran at ...\n",
      "1  story of a man who has unnatural feelings for ...\n",
      "2  homelessness  or houselessness as george carli...\n",
      "3  airport    starts as a brand new luxury    pla...\n",
      "4  brilliant over  acting by lesley ann warren . ...\n"
     ]
    }
   ],
   "source": [
    "import numpy as np\n",
    "import pandas as pd\n",
    "\n",
    "reviews = pd.read_csv('reviews.txt', header=None)\n",
    "labels = pd.read_csv('labels.txt', header=None)\n",
    "Y = (labels=='positive').astype(np.int_)\n",
    "\n",
    "print(type(reviews))\n",
    "print(reviews.head())"
   ]
  },
  {
   "cell_type": "code",
   "execution_count": 2,
   "id": "c81c7481",
   "metadata": {},
   "outputs": [],
   "source": [
    "from sklearn.model_selection import train_test_split\n",
    "from sklearn.feature_extraction.text import CountVectorizer\n",
    "import tensorflow as tf\n",
    "from tensorflow.keras.models import Sequential\n",
    "from tensorflow.keras.layers import Dense, Dropout\n",
    "from tensorflow.keras.optimizers import Adam\n",
    "from tensorflow.keras.callbacks import EarlyStopping\n",
    "from tensorflow.keras.regularizers import l2\n",
    "import matplotlib.pyplot as plt"
   ]
  },
  {
   "cell_type": "markdown",
   "id": "4982b946",
   "metadata": {},
   "source": [
    "**(a)** Split the reviews and labels in test, train and validation sets. The train and validation sets will be used to train your model and tune hyperparameters, the test set will be saved for testing. Use the `CountVectorizer` from `sklearn.feature_extraction.text` to create a Bag-of-Words representation of the reviews. Only use the 10,000 most frequent words (use the `max_features`-parameter of `CountVectorizer`)."
   ]
  },
  {
   "cell_type": "markdown",
   "id": "76c60f35",
   "metadata": {},
   "source": [
    "We will first split the data and then apply CounVectorizer, so we can prevent any data leakage.\n",
    "\n",
    "We will do some data preprocessing, so the model yells the best results.\n"
   ]
  },
  {
   "cell_type": "code",
   "execution_count": 3,
   "id": "cb6d4efd",
   "metadata": {},
   "outputs": [],
   "source": [
    "X_train, X_test, y_train, y_test = train_test_split(reviews[0], Y, test_size=0.2, random_state=42)\n",
    "X_train, X_val, y_train, y_val = train_test_split(X_train, y_train, test_size=0.2, random_state=42)\n",
    "\n",
    "\n",
    "vectorizer = CountVectorizer(max_features=10000)\n",
    "X_train = vectorizer.fit_transform(X_train)\n",
    "X_val = vectorizer.transform(X_val)\n",
    "X_test = vectorizer.transform(X_test)"
   ]
  },
  {
   "cell_type": "markdown",
   "id": "ebf07ee9",
   "metadata": {},
   "source": [
    "**(b)** Explore the representation of the reviews. How is a single word represented? How about a whole review?"
   ]
  },
  {
   "cell_type": "code",
   "execution_count": 4,
   "id": "47eb6a5c",
   "metadata": {},
   "outputs": [
    {
     "data": {
      "text/plain": [
       "<16000x10000 sparse matrix of type '<class 'numpy.int64'>'\n",
       "\twith 2010883 stored elements in Compressed Sparse Row format>"
      ]
     },
     "execution_count": 4,
     "metadata": {},
     "output_type": "execute_result"
    }
   ],
   "source": [
    "X_train"
   ]
  },
  {
   "cell_type": "markdown",
   "id": "c96fd30a",
   "metadata": {},
   "source": [
    "We got a Sparse Matrix as a result in which each row is a review and each column is one of the 10 000 most frequent words we set in the CountVectorizer. Each value represents how many times a given word appear in a given review."
   ]
  },
  {
   "cell_type": "code",
   "execution_count": 5,
   "id": "21345181",
   "metadata": {},
   "outputs": [
    {
     "name": "stdout",
     "output_type": "stream",
     "text": [
      "  (0, 8954)\t5\n",
      "  (0, 5652)\t1\n",
      "  (0, 4894)\t1\n",
      "  (0, 1731)\t2\n",
      "  (0, 6163)\t4\n",
      "  (0, 7662)\t1\n",
      "  (0, 9073)\t1\n",
      "  (0, 9680)\t1\n",
      "  (0, 1826)\t1\n",
      "  (0, 3518)\t2\n",
      "  (0, 4722)\t2\n",
      "  (0, 9312)\t1\n",
      "  (0, 8007)\t1\n",
      "  (0, 8334)\t1\n",
      "  (0, 2847)\t1\n",
      "  (0, 1206)\t2\n",
      "  (0, 1769)\t1\n",
      "  (0, 9079)\t2\n",
      "  (0, 9760)\t1\n",
      "  (0, 7764)\t1\n",
      "  (0, 5378)\t1\n",
      "  (0, 3748)\t1\n",
      "  (0, 9434)\t1\n",
      "  (0, 8995)\t2\n",
      "  (0, 4301)\t1\n",
      "  :\t:\n",
      "  (0, 9772)\t1\n",
      "  (0, 6861)\t1\n",
      "  (0, 9748)\t1\n",
      "  (0, 1353)\t1\n",
      "  (0, 5088)\t1\n",
      "  (0, 6203)\t1\n",
      "  (0, 8981)\t1\n",
      "  (0, 4473)\t2\n",
      "  (0, 6398)\t1\n",
      "  (0, 2667)\t1\n",
      "  (0, 6268)\t1\n",
      "  (0, 5859)\t1\n",
      "  (0, 9905)\t1\n",
      "  (0, 5851)\t1\n",
      "  (0, 6446)\t1\n",
      "  (0, 4903)\t1\n",
      "  (0, 505)\t1\n",
      "  (0, 9151)\t1\n",
      "  (0, 2606)\t1\n",
      "  (0, 4709)\t1\n",
      "  (0, 6408)\t1\n",
      "  (0, 5603)\t1\n",
      "  (0, 8203)\t1\n",
      "  (0, 4196)\t1\n",
      "  (0, 7537)\t1\n",
      "First word in the vocabulary: the\n"
     ]
    }
   ],
   "source": [
    "print(X_train[0])\n",
    "\n",
    "feature_names = vectorizer.get_feature_names_out()\n",
    "\n",
    "\n",
    "print(\"First word in the vocabulary:\", feature_names[8954])"
   ]
  },
  {
   "cell_type": "markdown",
   "id": "522c1a4e",
   "metadata": {},
   "source": [
    "As we can see 'the' is the more common word in the 1st sentence. We checked and it it thesame case for the 2nd and pretty sure for many others. So each record in the Sparse Matrix represents how many times a given word is contained in a given sentence/review. We tried to format the text by removing commmon words as the, these, etc but there was no improvement in the model, so we decided that we will stick to the original data."
   ]
  },
  {
   "cell_type": "markdown",
   "id": "c2638fce",
   "metadata": {},
   "source": [
    "**(c)** Train a neural network with a single hidden layer on the dataset, tuning the relevant hyperparameters to optimize accuracy. "
   ]
  },
  {
   "cell_type": "code",
   "execution_count": 6,
   "id": "2145e4a3",
   "metadata": {},
   "outputs": [
    {
     "name": "stdout",
     "output_type": "stream",
     "text": [
      "GPU: PhysicalDevice(name='/physical_device:GPU:0', device_type='GPU')\n"
     ]
    }
   ],
   "source": [
    "gpus = tf.config.list_physical_devices('GPU')\n",
    "if gpus:\n",
    "    for gpu in gpus:\n",
    "        print(\"GPU:\", gpu)\n",
    "else:\n",
    "    print(\"No GPU found. Using CPU instead.\")"
   ]
  },
  {
   "cell_type": "code",
   "execution_count": 7,
   "id": "83cafebd",
   "metadata": {},
   "outputs": [
    {
     "name": "stdout",
     "output_type": "stream",
     "text": [
      "Epoch 1/50\n",
      "500/500 [==============================] - 5s 6ms/step - loss: 0.7102 - accuracy: 0.8033 - val_loss: 0.6388 - val_accuracy: 0.8533\n",
      "Epoch 2/50\n",
      "500/500 [==============================] - 2s 4ms/step - loss: 0.6428 - accuracy: 0.8361 - val_loss: 0.6198 - val_accuracy: 0.8457\n",
      "Epoch 3/50\n",
      "500/500 [==============================] - 2s 5ms/step - loss: 0.6386 - accuracy: 0.8381 - val_loss: 0.6287 - val_accuracy: 0.8622\n",
      "Epoch 4/50\n",
      "500/500 [==============================] - 3s 6ms/step - loss: 0.6347 - accuracy: 0.8411 - val_loss: 0.6294 - val_accuracy: 0.8650\n",
      "Epoch 5/50\n",
      "500/500 [==============================] - 3s 6ms/step - loss: 0.6404 - accuracy: 0.8397 - val_loss: 0.6301 - val_accuracy: 0.8610\n",
      "Epoch 6/50\n",
      "500/500 [==============================] - 3s 6ms/step - loss: 0.6314 - accuracy: 0.8440 - val_loss: 0.6026 - val_accuracy: 0.8673\n",
      "Epoch 7/50\n",
      "500/500 [==============================] - 2s 4ms/step - loss: 0.6350 - accuracy: 0.8436 - val_loss: 0.6368 - val_accuracy: 0.8595\n",
      "Epoch 8/50\n",
      "500/500 [==============================] - 2s 3ms/step - loss: 0.6213 - accuracy: 0.8494 - val_loss: 0.6279 - val_accuracy: 0.8462\n",
      "Epoch 9/50\n",
      "500/500 [==============================] - 2s 4ms/step - loss: 0.6151 - accuracy: 0.8456 - val_loss: 0.6205 - val_accuracy: 0.8608\n",
      "Epoch 10/50\n",
      "500/500 [==============================] - 2s 4ms/step - loss: 0.6177 - accuracy: 0.8493 - val_loss: 0.5787 - val_accuracy: 0.8758\n",
      "Epoch 11/50\n",
      "500/500 [==============================] - 2s 4ms/step - loss: 0.6064 - accuracy: 0.8501 - val_loss: 0.5998 - val_accuracy: 0.8710\n",
      "Epoch 12/50\n",
      "500/500 [==============================] - 2s 4ms/step - loss: 0.5975 - accuracy: 0.8524 - val_loss: 0.5809 - val_accuracy: 0.8767\n",
      "Epoch 13/50\n",
      "500/500 [==============================] - 2s 4ms/step - loss: 0.6019 - accuracy: 0.8514 - val_loss: 0.5651 - val_accuracy: 0.8755\n",
      "Epoch 14/50\n",
      "500/500 [==============================] - 2s 4ms/step - loss: 0.6005 - accuracy: 0.8509 - val_loss: 0.5779 - val_accuracy: 0.8635\n",
      "Epoch 15/50\n",
      "500/500 [==============================] - 2s 4ms/step - loss: 0.5916 - accuracy: 0.8537 - val_loss: 0.6553 - val_accuracy: 0.8265\n",
      "Epoch 16/50\n",
      "500/500 [==============================] - 2s 4ms/step - loss: 0.6023 - accuracy: 0.8514 - val_loss: 0.5592 - val_accuracy: 0.8752\n",
      "Epoch 17/50\n",
      "500/500 [==============================] - 2s 4ms/step - loss: 0.5967 - accuracy: 0.8526 - val_loss: 0.5787 - val_accuracy: 0.8668\n",
      "Epoch 18/50\n",
      "500/500 [==============================] - 2s 4ms/step - loss: 0.5895 - accuracy: 0.8556 - val_loss: 0.5639 - val_accuracy: 0.8785\n",
      "Epoch 19/50\n",
      "500/500 [==============================] - 2s 4ms/step - loss: 0.5941 - accuracy: 0.8506 - val_loss: 0.5652 - val_accuracy: 0.8737\n",
      "Epoch 20/50\n",
      "500/500 [==============================] - 2s 4ms/step - loss: 0.5832 - accuracy: 0.8545 - val_loss: 0.5646 - val_accuracy: 0.8727\n",
      "Epoch 21/50\n",
      "500/500 [==============================] - 2s 4ms/step - loss: 0.5812 - accuracy: 0.8545 - val_loss: 0.5469 - val_accuracy: 0.8767\n",
      "Epoch 22/50\n",
      "500/500 [==============================] - 2s 4ms/step - loss: 0.5848 - accuracy: 0.8519 - val_loss: 0.5612 - val_accuracy: 0.8758\n",
      "Epoch 23/50\n",
      "500/500 [==============================] - 2s 4ms/step - loss: 0.5849 - accuracy: 0.8556 - val_loss: 0.5962 - val_accuracy: 0.8630\n",
      "Epoch 24/50\n",
      "500/500 [==============================] - 2s 4ms/step - loss: 0.5766 - accuracy: 0.8552 - val_loss: 0.5615 - val_accuracy: 0.8668\n",
      "Epoch 25/50\n",
      "500/500 [==============================] - 2s 4ms/step - loss: 0.5824 - accuracy: 0.8551 - val_loss: 0.5736 - val_accuracy: 0.8742\n",
      "Epoch 26/50\n",
      "500/500 [==============================] - 2s 4ms/step - loss: 0.5812 - accuracy: 0.8561 - val_loss: 0.6101 - val_accuracy: 0.8472\n"
     ]
    }
   ],
   "source": [
    "tf.random.set_seed(42)\n",
    "\n",
    "model = Sequential([\n",
    "    Dense(128, activation='relu', input_shape=(X_train.shape[1],), kernel_regularizer=l2(0.01)),\n",
    "    Dropout(0.5),\n",
    "    Dense(1, activation='sigmoid')\n",
    "])\n",
    "\n",
    "\n",
    "adam = Adam(learning_rate=0.001)\n",
    "\n",
    "model.compile(optimizer=adam,\n",
    "              loss='binary_crossentropy',\n",
    "              metrics=['accuracy'])\n",
    "\n",
    "early_stopping = EarlyStopping(monitor='val_loss', patience=5, restore_best_weights=True)\n",
    "\n",
    "\n",
    "history = model.fit(\n",
    "    X_train.toarray(),\n",
    "    y_train.to_numpy(),\n",
    "    epochs=50,\n",
    "    batch_size=32,\n",
    "    validation_data=(X_val.toarray(), y_val.to_numpy()),\n",
    "    callbacks=[early_stopping]\n",
    ")\n"
   ]
  },
  {
   "cell_type": "code",
   "execution_count": 14,
   "id": "8212c98e",
   "metadata": {},
   "outputs": [],
   "source": [
    "model.save('model.h5')"
   ]
  },
  {
   "cell_type": "code",
   "execution_count": 11,
   "id": "73a8fb2f",
   "metadata": {},
   "outputs": [
    {
     "data": {
      "image/png": "[encoded data removed]",
      "text/plain": [
       "<Figure size 640x480 with 1 Axes>"
      ]
     },
     "metadata": {},
     "output_type": "display_data"
    }
   ],
   "source": [
    "history_loss_values = history.history['loss']\n",
    "history_val_loss_values = history.history['val_loss']\n",
    "\n",
    "plt.figure()\n",
    "plt.title(\"Learning curves\")\n",
    "plt.xlabel(\"Epoch\")\n",
    "plt.ylabel(\"Cross entropy loss\")\n",
    "plt.plot(history_loss_values, label='train')\n",
    "plt.plot(history_val_loss_values, label='valid')\n",
    "plt.xticks(range(0, len(history_loss_values), 1))\n",
    "plt.grid()\n",
    "plt.legend()\n",
    "plt.show()"
   ]
  },
  {
   "cell_type": "markdown",
   "id": "1fd327a6",
   "metadata": {},
   "source": [
    "**(d)** Test your sentiment-classifier on the test set."
   ]
  },
  {
   "cell_type": "code",
   "execution_count": 12,
   "id": "189d8d2e",
   "metadata": {},
   "outputs": [
    {
     "name": "stdout",
     "output_type": "stream",
     "text": [
      "Test set accuracy: 0.875\n"
     ]
    }
   ],
   "source": [
    "test_loss, test_accuracy = model.evaluate(X_test.toarray(), y_test.to_numpy(), verbose=0)\n",
    "print(\"Test set accuracy:\", test_accuracy)"
   ]
  },
  {
   "cell_type": "markdown",
   "id": "fd44ee62",
   "metadata": {},
   "source": [
    "**(e)** Use the classifier to classify a few sentences you write yourselves. "
   ]
  },
  {
   "cell_type": "code",
   "execution_count": 13,
   "id": "a1ef2970",
   "metadata": {},
   "outputs": [
    {
     "name": "stdout",
     "output_type": "stream",
     "text": [
      "1/1 [==============================] - 0s 15ms/step\n",
      "Sentence: This movie was fantastic! I really enjoyed it.\n",
      "Predicted Sentiment: positive (82.16% positive, 17.84% negative)\n",
      "\n",
      "Sentence: The film was terrible and a waste of time.\n",
      "Predicted Sentiment: negative (14.35% positive, 85.65% negative)\n",
      "\n",
      "Sentence: An average movie with some good and bad moments.\n",
      "Predicted Sentiment: negative (39.85% positive, 60.15% negative)\n",
      "\n",
      "Sentence: Absolutely loved the storyline and the characters.\n",
      "Predicted Sentiment: positive (67.63% positive, 32.37% negative)\n",
      "\n",
      "Sentence: I did not like the movie at all.\n",
      "Predicted Sentiment: negative (41.45% positive, 58.55% negative)\n",
      "\n"
     ]
    }
   ],
   "source": [
    "sample_sentences = [\n",
    "    \"This movie was fantastic! I really enjoyed it.\",\n",
    "    \"The film was terrible and a waste of time.\",\n",
    "    \"An average movie with some good and bad moments.\",\n",
    "    \"Absolutely loved the storyline and the characters.\",\n",
    "    \"I did not like the movie at all.\"\n",
    "]\n",
    "\n",
    "sample_sentences_transformed = vectorizer.transform(sample_sentences)\n",
    "\n",
    "predictions = model.predict(sample_sentences_transformed)\n",
    "\n",
    "for sentence, pred in zip(sample_sentences, predictions):\n",
    "    positive_confidence = pred[0] * 100\n",
    "    negative_confidence = (1 - pred[0]) * 100\n",
    "    predicted_label = 'positive' if positive_confidence > 50 else 'negative'\n",
    "    print(f\"Sentence: {sentence}\\nPredicted Sentiment: {predicted_label} ({positive_confidence:.2f}% positive, {negative_confidence:.2f}% negative)\\n\")"
   ]
  }
 ],
 "metadata": {
  "kernelspec": {
   "display_name": "tf",
   "language": "python",
   "name": "python3"
  },
  "language_info": {
   "codemirror_mode": {
    "name": "ipython",
    "version": 3
   },
   "file_extension": ".py",
   "mimetype": "text/x-python",
   "name": "python",
   "nbconvert_exporter": "python",
   "pygments_lexer": "ipython3",
   "version": "3.8.20"
  }
 },
 "nbformat": 4,
 "nbformat_minor": 5
}
