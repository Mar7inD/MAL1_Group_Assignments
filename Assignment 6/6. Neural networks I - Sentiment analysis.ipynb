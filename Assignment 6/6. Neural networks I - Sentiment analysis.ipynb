{
 "cells": [
  {
   "cell_type": "markdown",
   "id": "5bc9be56",
   "metadata": {},
   "source": [
    "## Sentiment Analysis"
   ]
  },
  {
   "cell_type": "markdown",
   "id": "818b3b52",
   "metadata": {},
   "source": [
    "In this exercise we use the IMDb-dataset, which we will use to perform a sentiment analysis. The code below assumes that the data is placed in the same folder as this notebook. We see that the reviews are loaded as a pandas dataframe, and print the beginning of the first few reviews."
   ]
  },
  {
   "cell_type": "code",
   "execution_count": 9,
   "id": "67da3bc0",
   "metadata": {},
   "outputs": [
    {
     "name": "stdout",
     "output_type": "stream",
     "text": [
      "<class 'pandas.core.frame.DataFrame'>\n",
      "                                                   0\n",
      "0  bromwell high is a cartoon comedy . it ran at ...\n",
      "1  story of a man who has unnatural feelings for ...\n",
      "2  homelessness  or houselessness as george carli...\n",
      "3  airport    starts as a brand new luxury    pla...\n",
      "4  brilliant over  acting by lesley ann warren . ...\n"
     ]
    }
   ],
   "source": [
    "import numpy as np\n",
    "import pandas as pd\n",
    "\n",
    "reviews = pd.read_csv('reviews.txt', header=None)\n",
    "labels = pd.read_csv('labels.txt', header=None)\n",
    "Y = (labels=='positive').astype(np.int_)\n",
    "\n",
    "print(type(reviews))\n",
    "print(reviews.head())"
   ]
  },
  {
   "cell_type": "code",
   "execution_count": 10,
   "id": "c81c7481",
   "metadata": {},
   "outputs": [],
   "source": [
    "from sklearn.model_selection import train_test_split\n",
    "from sklearn.feature_extraction.text import CountVectorizer\n",
    "import tensorflow as tf\n",
    "from tensorflow.keras.models import Sequential\n",
    "from tensorflow.keras.layers import Dense, Lambda\n",
    "from tensorflow.keras.callbacks import TensorBoard, EarlyStopping, ModelCheckpoint\n",
    "from tensorflow.keras.regularizers import l2\n",
    "import keras_tuner as kt\n",
    "import matplotlib.pyplot as plt\n",
    "from pathlib import Path"
   ]
  },
  {
   "cell_type": "markdown",
   "id": "4982b946",
   "metadata": {},
   "source": [
    "**(a)** Split the reviews and labels in test, train and validation sets. The train and validation sets will be used to train your model and tune hyperparameters, the test set will be saved for testing. Use the `CountVectorizer` from `sklearn.feature_extraction.text` to create a Bag-of-Words representation of the reviews. Only use the 10,000 most frequent words (use the `max_features`-parameter of `CountVectorizer`)."
   ]
  },
  {
   "cell_type": "markdown",
   "id": "76c60f35",
   "metadata": {},
   "source": [
    "We will first split the data and then apply CounVectorizer, so we can prevent any data leakage.\n",
    "\n",
    "We will do some data preprocessing, so the model yells the best results.\n"
   ]
  },
  {
   "cell_type": "code",
   "execution_count": 11,
   "id": "cb6d4efd",
   "metadata": {},
   "outputs": [],
   "source": [
    "# Split data into training, validation and test sets\n",
    "X_train, X_test, y_train, y_test = train_test_split(reviews[0], Y, test_size=0.2, random_state=42)\n",
    "\n",
    "X_train, X_val, y_train, y_val = train_test_split(X_train, y_train, test_size=0.2, random_state=42)\n",
    "\n",
    "# Convert the reviews into a bag of words\n",
    "vectorizer = CountVectorizer(max_features=10000)\n",
    "X_train = vectorizer.fit_transform(X_train)\n",
    "X_val = vectorizer.transform(X_val)\n",
    "X_test = vectorizer.transform(X_test)"
   ]
  },
  {
   "cell_type": "markdown",
   "id": "ebf07ee9",
   "metadata": {},
   "source": [
    "**(b)** Explore the representation of the reviews. How is a single word represented? How about a whole review?"
   ]
  },
  {
   "cell_type": "code",
   "execution_count": 12,
   "id": "47eb6a5c",
   "metadata": {},
   "outputs": [
    {
     "data": {
      "text/plain": [
       "<16000x10000 sparse matrix of type '<class 'numpy.int64'>'\n",
       "\twith 2010883 stored elements in Compressed Sparse Row format>"
      ]
     },
     "execution_count": 12,
     "metadata": {},
     "output_type": "execute_result"
    }
   ],
   "source": [
    "X_train"
   ]
  },
  {
   "cell_type": "markdown",
   "id": "c96fd30a",
   "metadata": {},
   "source": [
    "We got a Sparse Matrix as a result in which each row is a review and each column is one of the 10 000 most frequent words we set in the CountVectorizer. Each value represents how many times a given word appear in a given review."
   ]
  },
  {
   "cell_type": "code",
   "execution_count": 13,
   "id": "21345181",
   "metadata": {},
   "outputs": [
    {
     "name": "stdout",
     "output_type": "stream",
     "text": [
      "  (0, 8954)\t5\n",
      "  (0, 5652)\t1\n",
      "  (0, 4894)\t1\n",
      "  (0, 1731)\t2\n",
      "  (0, 6163)\t4\n",
      "  (0, 7662)\t1\n",
      "  (0, 9073)\t1\n",
      "  (0, 9680)\t1\n",
      "  (0, 1826)\t1\n",
      "  (0, 3518)\t2\n",
      "  (0, 4722)\t2\n",
      "  (0, 9312)\t1\n",
      "  (0, 8007)\t1\n",
      "  (0, 8334)\t1\n",
      "  (0, 2847)\t1\n",
      "  (0, 1206)\t2\n",
      "  (0, 1769)\t1\n",
      "  (0, 9079)\t2\n",
      "  (0, 9760)\t1\n",
      "  (0, 7764)\t1\n",
      "  (0, 5378)\t1\n",
      "  (0, 3748)\t1\n",
      "  (0, 9434)\t1\n",
      "  (0, 8995)\t2\n",
      "  (0, 4301)\t1\n",
      "  :\t:\n",
      "  (0, 9772)\t1\n",
      "  (0, 6861)\t1\n",
      "  (0, 9748)\t1\n",
      "  (0, 1353)\t1\n",
      "  (0, 5088)\t1\n",
      "  (0, 6203)\t1\n",
      "  (0, 8981)\t1\n",
      "  (0, 4473)\t2\n",
      "  (0, 6398)\t1\n",
      "  (0, 2667)\t1\n",
      "  (0, 6268)\t1\n",
      "  (0, 5859)\t1\n",
      "  (0, 9905)\t1\n",
      "  (0, 5851)\t1\n",
      "  (0, 6446)\t1\n",
      "  (0, 4903)\t1\n",
      "  (0, 505)\t1\n",
      "  (0, 9151)\t1\n",
      "  (0, 2606)\t1\n",
      "  (0, 4709)\t1\n",
      "  (0, 6408)\t1\n",
      "  (0, 5603)\t1\n",
      "  (0, 8203)\t1\n",
      "  (0, 4196)\t1\n",
      "  (0, 7537)\t1\n",
      "First word in the vocabulary: the\n"
     ]
    }
   ],
   "source": [
    "print(X_train[0])\n",
    "\n",
    "# Get the feature names (words) from the vectorizer\n",
    "feature_names = vectorizer.get_feature_names_out()\n",
    "\n",
    "# Print the first word\n",
    "print(\"First word in the vocabulary:\", feature_names[8954])"
   ]
  },
  {
   "cell_type": "markdown",
   "id": "522c1a4e",
   "metadata": {},
   "source": [
    "As we can see 'the' is the more common word in the 1st sentence. We checked and it it thesame case for the 2nd and pretty sure for many others. So each record in the Sparse Matrix represents how many times a given word is contained in a given sentence/review. We tried to format the text by removing commmon words as the, these, etc but there was no improvement in the model, so we decided that we will stick to the original data."
   ]
  },
  {
   "cell_type": "markdown",
   "id": "c2638fce",
   "metadata": {},
   "source": [
    "**(c)** Train a neural network with a single hidden layer on the dataset, tuning the relevant hyperparameters to optimize accuracy. "
   ]
  },
  {
   "cell_type": "code",
   "execution_count": 14,
   "id": "2145e4a3",
   "metadata": {},
   "outputs": [
    {
     "name": "stdout",
     "output_type": "stream",
     "text": [
      "GPU: PhysicalDevice(name='/physical_device:GPU:0', device_type='GPU')\n"
     ]
    }
   ],
   "source": [
    "gpus = tf.config.list_physical_devices('GPU')\n",
    "if gpus:\n",
    "    for gpu in gpus:\n",
    "        print(\"GPU:\", gpu)\n",
    "else:\n",
    "    print(\"No GPU found. Using CPU instead.\")"
   ]
  },
  {
   "cell_type": "code",
   "execution_count": 15,
   "id": "83cafebd",
   "metadata": {},
   "outputs": [
    {
     "name": "stdout",
     "output_type": "stream",
     "text": [
      "INFO:tensorflow:Reloading Tuner from my_dir\\hyperparameter_tuning\\tuner0.json\n",
      "INFO:tensorflow:Oracle triggered exit\n"
     ]
    }
   ],
   "source": [
    "tf.random.set_seed(42)\n",
    "# Hyperparameter tuning function\n",
    "def build_model(hp):\n",
    "    model = Sequential()\n",
    "\n",
    "    # First layer with hyperparameter tuning\n",
    "    model.add(Dense(\n",
    "    units=hp.Int('units', min_value=16, max_value=128, step=16),\n",
    "    activation='leaky_relu',\n",
    "    kernel_regularizer=l2(hp.Float('l2_regularizer', min_value=0.0001, max_value=0.01, step=0.0001)),\n",
    "    input_shape=(X_train.shape[1],)\n",
    "    ))\n",
    "\n",
    "    # Output layer\n",
    "    model.add(Dense(2, activation='sigmoid')) # Adjust for multi-class classificat\n",
    "    # Learning rate decay schedule with hyperparameter tuning\n",
    "    learning_rate_schedule = tf.keras.optimizers.schedules.ExponentialDecay(\n",
    "    initial_learning_rate=hp.Float('initial_learning_rate', min_value=1e-5, max_value=1e-2, sampling='log'),\n",
    "    decay_steps=100000,\n",
    "    decay_rate=0.96,\n",
    "    staircase=True\n",
    "    )\n",
    "    \n",
    "    # Compile model with optimizer and decay schedule\n",
    "    optimizer = tf.keras.optimizers.Adam(learning_rate=learning_rate_schedule)\n",
    "    model.compile(loss='binary_crossentropy', optimizer=optimizer, metrics=['accuracy'])\n",
    "    return model\n",
    "# Convert the labels to one-hot encoding\n",
    "y_train_one_hot = tf.keras.utils.to_categorical(y_train, num_classes=2)\n",
    "y_val_one_hot = tf.keras.utils.to_categorical(y_val, num_classes=2)\n",
    "# Set up the Keras Tuner\n",
    "tuner = kt.Hyperband(\n",
    "build_model,\n",
    "objective='val_accuracy',\n",
    "max_epochs=30,\n",
    "factor=3,\n",
    "hyperband_iterations=4,\n",
    "directory='my_dir',\n",
    "project_name='hyperparameter_tuning'\n",
    ")\n",
    "\n",
    "# Callbacks\n",
    "root_logdir = Path(tuner.project_dir) / \"tensorboard\"\n",
    "tensorboard_cb = TensorBoard(\n",
    "log_dir=root_logdir,\n",
    "update_freq=1000,\n",
    "histogram_freq=0\n",
    ")\n",
    "\n",
    "early_stopping_cb = EarlyStopping(\n",
    "monitor='val_loss',\n",
    "patience=3,\n",
    "restore_best_weights=True\n",
    ")\n",
    "\n",
    "checkpoint_cb = ModelCheckpoint(\n",
    "filepath='model_checkpoints/trial_{trial_id}_epoch_{epoch}',\n",
    "save_weights_only=True,\n",
    "monitor='val_accuracy',\n",
    "mode='max',\n",
    "save_best_only=True,\n",
    "\n",
    ")\n",
    "\n",
    "X_train_dense = X_train. toarray ()\n",
    "X_val_dense = X_val. toarray()\n",
    "\n",
    "tuner. search(\n",
    "    X_train_dense, y_train_one_hot,\n",
    "    epochs=20,\n",
    "    batch_size=50,\n",
    "    validation_data=(X_val_dense, y_val_one_hot),\n",
    "    callbacks=[early_stopping_cb, tensorboard_cb]\n",
    ")"
   ]
  },
  {
   "cell_type": "code",
   "execution_count": 16,
   "id": "59157a8b",
   "metadata": {},
   "outputs": [],
   "source": [
    "# %tensorboard --logdir=./my_dir"
   ]
  },
  {
   "cell_type": "code",
   "execution_count": 17,
   "id": "ccdd59eb",
   "metadata": {},
   "outputs": [
    {
     "name": "stdout",
     "output_type": "stream",
     "text": [
      "\n",
      "Best optimizer:\n",
      "<keras.optimizers.optimizer_v2.adam.Adam object at 0x0000028DBC0141F0>\n",
      "\n",
      "Best hyperparameters:\n",
      "{'units': 48, 'l2_regularizer': 0.0016, 'initial_learning_rate': 7.73297757996155e-05, 'tuner/epochs': 10, 'tuner/initial_epoch': 0, 'tuner/bracket': 1, 'tuner/round': 0}\n",
      "\n",
      "Best trial:\n",
      "0067\n",
      "\n",
      "Best model:\n",
      "Model: \"sequential\"\n",
      "_________________________________________________________________\n",
      " Layer (type)                Output Shape              Param #   \n",
      "=================================================================\n",
      " dense (Dense)               (None, 48)                480048    \n",
      "                                                                 \n",
      " dense_1 (Dense)             (None, 2)                 98        \n",
      "                                                                 \n",
      "=================================================================\n",
      "Total params: 480,146\n",
      "Trainable params: 480,146\n",
      "Non-trainable params: 0\n",
      "_________________________________________________________________\n",
      "None\n"
     ]
    }
   ],
   "source": [
    "# Save the best model\n",
    "best_model = tuner.get_best_models(num_models=1)[0]\n",
    "best_params = tuner.get_best_hyperparameters(num_trials=1)[0]\n",
    "best_trial = tuner.oracle.get_best_trials(num_trials=1)[0]\n",
    "best_optimizer = best_model.optimizer\n",
    "print(\"\\nBest optimizer:\")\n",
    "print(best_optimizer)\n",
    "\n",
    "print(\"\\nBest hyperparameters:\")\n",
    "print(best_params.values)\n",
    "print(\"\\nBest trial:\")\n",
    "print(best_trial.trial_id)\n",
    "print(\"\\nBest model:\")\n",
    "print(best_model.summary())\n",
    "history_loss = best_trial.metrics.get_history('loss')\n",
    "history_val_loss = best_trial.metrics.get_history('val_loss')\n",
    "best_model.save('best_model.h5')\n",
    "# Save the best optimizer configuration\n",
    "optimizer_config = best_optimizer.get_config()\n",
    "np.save('best_optimizer_config.npy', optimizer_config)"
   ]
  },
  {
   "cell_type": "code",
   "execution_count": 18,
   "id": "73a8fb2f",
   "metadata": {},
   "outputs": [
    {
     "data": {
      "image/png": "[encoded data removed]",
      "text/plain": [
       "<Figure size 640x480 with 1 Axes>"
      ]
     },
     "metadata": {},
     "output_type": "display_data"
    }
   ],
   "source": [
    "# Extract float values from MetricObservation objects\n",
    "history_loss_values = [obs.value for obs in history_loss]\n",
    "history_val_loss_values = [obs.value for obs in history_val_loss]\n",
    "plt.figure()\n",
    "plt.title(\"Learning curves\")\n",
    "plt.xlabel(\"Epoch\")\n",
    "plt.ylabel(\"Cross entropy loss\")\n",
    "plt.plot(history_loss_values, label='train')\n",
    "plt.plot(history_val_loss_values, label='valid')\n",
    "plt.xticks(range(0, best_params['tuner/epochs'], 1))\n",
    "plt.grid()\n",
    "plt.legend()\n",
    "plt.show()"
   ]
  },
  {
   "cell_type": "code",
   "execution_count": 19,
   "id": "95277bc1",
   "metadata": {},
   "outputs": [
    {
     "name": "stdout",
     "output_type": "stream",
     "text": [
      "\n",
      "Test loss: 0.8877999782562256\n"
     ]
    }
   ],
   "source": [
    "model = tf.keras.models.load_model('best_model.h5', compile=False)\n",
    "# Learning rate decay schedule with hyperparameter tuning\n",
    "lr_schedule = tf.keras.optimizers.schedules.ExponentialDecay(\n",
    "initial_learning_rate=0.001,\n",
    "decay_steps=100000,\n",
    "decay_rate=0.96,\n",
    ")\n",
    "# Compile model with optimizer and decay schedule\n",
    "optimizer = tf.keras.optimizers.Adam(learning_rate=lr_schedule)\n",
    "model.compile(loss='binary_crossentropy', optimizer=optimizer, metrics=['accuracy'])\n",
    "# Evaluate the model\n",
    "y_test_one_hot = tf.keras.utils.to_categorical(y_test, num_classes=2)\n",
    "test_loss, test_accuracy = model.evaluate(X_test, y_test_one_hot, verbose=0)\n",
    "print(\"\\nTest loss:\", test_accuracy)"
   ]
  },
  {
   "cell_type": "code",
   "execution_count": 20,
   "id": "41ac843d",
   "metadata": {},
   "outputs": [
    {
     "name": "stdout",
     "output_type": "stream",
     "text": [
      "Best model validation accuracy: 0.8927500247955322\n"
     ]
    }
   ],
   "source": [
    "# Load the best model\n",
    "# best_model = tf.keras.models.load_model('sentiment_model.h5')\n",
    "val_loss, val_accuracy = best_model.evaluate(X_val, y_val_one_hot, verbose=0)\n",
    "print(\"Best model validation accuracy:\", val_accuracy)"
   ]
  },
  {
   "cell_type": "markdown",
   "id": "1fd327a6",
   "metadata": {},
   "source": [
    "**(d)** Test your sentiment-classifier on the test set."
   ]
  },
  {
   "cell_type": "code",
   "execution_count": 21,
   "id": "189d8d2e",
   "metadata": {},
   "outputs": [
    {
     "name": "stdout",
     "output_type": "stream",
     "text": [
      "Test set accuracy: 0.8877999782562256\n"
     ]
    }
   ],
   "source": [
    "y_test_one_hot = tf.keras.utils.to_categorical(y_test, num_classes=2)\n",
    "test_loss, test_accuracy = model.evaluate(X_test, y_test_one_hot, verbose=0)\n",
    "print(\"Test set accuracy:\", test_accuracy)"
   ]
  },
  {
   "cell_type": "markdown",
   "id": "fd44ee62",
   "metadata": {},
   "source": [
    "**(e)** Use the classifier to classify a few sentences you write yourselves. "
   ]
  },
  {
   "cell_type": "code",
   "execution_count": 22,
   "id": "a1ef2970",
   "metadata": {},
   "outputs": [
    {
     "name": "stdout",
     "output_type": "stream",
     "text": [
      "1/1 [==============================] - 0s 88ms/step\n",
      "Sentence: This movie was fantastic! I really enjoyed it.\n",
      "Predicted Sentiment: positive (67.27% positive, 32.60% negative)\n",
      "\n",
      "Sentence: The film was terrible and a waste of time.\n",
      "Predicted Sentiment: negative (22.89% positive, 75.72% negative)\n",
      "\n",
      "Sentence: An average movie with some good and bad moments.\n",
      "Predicted Sentiment: negative (40.94% positive, 58.61% negative)\n",
      "\n",
      "Sentence: Absolutely loved the storyline and the characters.\n",
      "Predicted Sentiment: positive (54.81% positive, 45.77% negative)\n",
      "\n",
      "Sentence: I did not like the movie at all.\n",
      "Predicted Sentiment: negative (44.77% positive, 54.95% negative)\n",
      "\n"
     ]
    }
   ],
   "source": [
    "sample_sentences = [\n",
    "\"This movie was fantastic! I really enjoyed it.\",\n",
    "\"The film was terrible and a waste of time.\",\n",
    "\"An average movie with some good and bad moments.\",\n",
    "\"Absolutely loved the storyline and the characters.\",\n",
    "\"I did not like the movie at all.\"\n",
    "]\n",
    "\n",
    "sample_sentences_transformed = vectorizer.transform(sample_sentences)\n",
    "\n",
    "predictions = model.predict(sample_sentences_transformed)\n",
    "\n",
    "for sentence, pred in zip(sample_sentences, predictions):\n",
    "    positive_confidence = pred[1] * 100\n",
    "    negative_confidence = pred[0] * 100\n",
    "    predicted_label = 'positive' if positive_confidence > 50 else 'negative'\n",
    "    print(f\"Sentence: {sentence}\\nPredicted Sentiment: {predicted_label} ({positive_confidence:.2f}% positive, {negative_confidence:.2f}% negative)\\n\")"
   ]
  }
 ],
 "metadata": {
  "kernelspec": {
   "display_name": "tf",
   "language": "python",
   "name": "python3"
  },
  "language_info": {
   "codemirror_mode": {
    "name": "ipython",
    "version": 3
   },
   "file_extension": ".py",
   "mimetype": "text/x-python",
   "name": "python",
   "nbconvert_exporter": "python",
   "pygments_lexer": "ipython3",
   "version": "3.8.20"
  }
 },
 "nbformat": 4,
 "nbformat_minor": 5
}
